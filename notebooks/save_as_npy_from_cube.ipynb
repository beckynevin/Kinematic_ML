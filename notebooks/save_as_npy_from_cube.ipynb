{
 "cells": [
  {
   "cell_type": "code",
   "execution_count": 1,
   "metadata": {},
   "outputs": [],
   "source": [
    "# Goal: put data into .png format straight from OG\n",
    "# kinematic map files"
   ]
  },
  {
   "cell_type": "code",
   "execution_count": 41,
   "metadata": {},
   "outputs": [
    {
     "name": "stdout",
     "output_type": "stream",
     "text": [
      "['7990-1902', '9031-6103', '8313-1902', '8314-12703', '8314-1901', '9490-6102', '10497-3702', '9868-6104', '9868-9101', '8724-12704', '8982-9101', '8723-3703', '8723-9101', '8949-12704', '9892-9102', '10499-3701', '10499-12703', '9091-3702', '8947-3704', '8978-3701', '8978-9102', '8315-3704', '9491-12702', '8312-9102', '8713-12704', '9090-1902', '10498-3704', '8983-3704', '8977-3703', '8984-12704', '8341-3702', '8725-1902', '9869-3702', '8657-12704', '10510-9102', '10517-6103', '8454-6101', '10519-9102', '8097-1901', '8256-6104', '8260-1902', '9510-9102', '8455-6103', '8651-9101', '8656-12704', '8259-12705', '8259-3702', '9181-12701', '8257-12704', '8257-3703', '8250-12704', '8616-1901', '9502-3701', '9502-3702', '9505-12704', '8611-12705', '8078-1901', '8244-12705', '8446-9101', '8083-12705', '8077-6104', '8084-12702', '9194-6103', '8274-12703', '9503-3703', '8449-1901', '10503-9101', '8440-6102', '8999-6103', '8999-9101', '8952-6104', '9874-12705', '9041-12701', '8158-12704', '8568-12702', '8550-3701', '8566-9102', '8566-6101', '8337-12702', '8337-6103', '8939-9101', '8595-6103', '8595-3702', '10221-1901', '9085-6104', '9886-12705', '9886-3702', '8150-6103', '10217-6104', '9875-12703', '9875-6103', '8336-1901', '8331-1902', '7977-6102', '8338-3701', '8551-6104', '8551-3704', '8551-1901', '8135-12704', '8931-12702', '8132-9101', '8981-3701', '8727-3704', '9862-12702', '9862-9102', '8147-6104', '8988-6104', '7993-12704', '8317-9102', '9493-12705', '8328-12702', '8328-9101', '8728-12704', '8728-3702', '8942-3702', '9890-6102', '9890-12701', '9890-1901', '8141-3702', '8141-1901', '8717-9102', '8719-3702', '8726-9102', '10492-3701', '8721-6101', '8547-3704', '7968-9102', '8320-12702', '9034-12702', '9034-1901', '9033-1901', '8255-3703', '8252-3703', '9514-12704', '9183-3702', '9513-6103', '8466-12703', '8239-12702', '9512-12704', '9512-1901', '9182-12705', '9182-12702', '9182-6104', '9182-1902', '8606-3701', '7815-3703', '8253-12704', '8253-1902', '8456-9101', '8451-9101', '8655-12705', '10512-12701', '10508-3703', '8442-6101', '9506-6102', '8612-12702', '8615-9101', '7495-1902', '8481-3701', '8443-6103', '8241-1901', '9500-12702', '9190-6104', '9678-12704', '8934-1901', '8553-3701', '8137-1902', '9029-6103', '8554-9102', '9486-12704', '7972-6103', '9027-6103', '9087-12702', '8152-12705', '8152-9102', '8951-9101', '9089-3704', '9045-12703', '8994-6103', '8994-9102', '9489-3702', '8332-3701', '8332-3702', '8335-6104', '8131-3704', '8131-1901', '8555-6101', '8555-1901', '9487-12701', '9088-6103', '10214-3703', '8950-3703', '9882-3701', '9882-12705', '9882-12702', '9882-3703', '9871-3701', '10213-12702']\n",
      "this is how many galaxies you are working with 198\n"
     ]
    }
   ],
   "source": [
    "# Okay so now that you have downloaded everything it is time to search through your directory for maps\n",
    "# and assembly a list of existing data in order to run an analysis\n",
    "import os\n",
    "import re\n",
    "import numpy as np\n",
    "import matplotlib.pyplot as plt\n",
    "import astropy.io.fits as pyfits\n",
    "from PIL import Image\n",
    "from marvin.tools.maps import Maps\n",
    "\n",
    "\n",
    "# You can also use os to get you the names of all directories in a folder\n",
    "#print(os.listdir())\n",
    "# This will yield a tuple for each subdirectory. Ths first entry in the 3-tuple is a directory name, so:\n",
    "\n",
    "plates = [x[0] for x in os.walk('/Users/beckynevin/sas/mangawork/manga/spectro/analysis/v2_5_3/2.3.0/VOR10-MILESHC-MILESHC/')]\n",
    "#print(plates)\n",
    "\n",
    "\n",
    "\n",
    "existing_plateifus=[]\n",
    "\n",
    "for j in range(len(plates)):\n",
    "    if re.split('/',plates[j])[-2]=='VOR10-MILESHC-MILESHC':# or re.split('/',plates[j])[-1] != '12701':\n",
    "        continue\n",
    "    else:\n",
    "        existing_plateifus.append(str(re.split('/',plates[j])[-2])+'-'+str(re.split('/',plates[j])[-1]))\n",
    "print(existing_plateifus)\n",
    "print('this is how many galaxies you are working with', len(existing_plateifus))\n",
    "# Now you need to construct plateifu names of what exists"
   ]
  },
  {
   "cell_type": "code",
   "execution_count": 38,
   "metadata": {},
   "outputs": [
    {
     "name": "stdout",
     "output_type": "stream",
     "text": [
      "j =  0\n"
     ]
    },
    {
     "name": "stderr",
     "output_type": "stream",
     "text": [
      "\u001b[1;33m[WARNING]: \u001b[0m\u001b[0;39minvalid value encountered in sqrt\u001b[0m \u001b[0;36m(RuntimeWarning)\u001b[0m\n"
     ]
    },
    {
     "name": "stdout",
     "output_type": "stream",
     "text": [
      "j =  10\n",
      "j =  20\n",
      "j =  30\n",
      "j =  40\n",
      "j =  50\n",
      "j =  60\n",
      "j =  70\n",
      "j =  80\n",
      "j =  90\n",
      "j =  100\n",
      "j =  110\n",
      "j =  120\n",
      "j =  130\n",
      "j =  140\n",
      "j =  150\n",
      "j =  160\n",
      "j =  170\n",
      "j =  180\n",
      "j =  190\n"
     ]
    }
   ],
   "source": [
    "# Now grab the stellar velocity maps:\n",
    "\n",
    "# Here you will assemble a list of the maps from the plateifu list - you could also do this for different\n",
    "# DAP quantities like other emission lines\n",
    "# You could also make an array that has multiple maps for each galaxy, but I'll start with one, just\n",
    "# the stellar velocity maps.\n",
    "# This section of code stacks them into an array, map_array_ml\n",
    "\n",
    "# Note that this part takes a little while to run\n",
    "\n",
    "# First, determine the shape:\n",
    "shape = 76 # This is I think the maximum size of these cubes\n",
    "\n",
    "map_array_ml = np.zeros((len(existing_plateifus),shape,shape))#np.zeros((len(plateifu_list),74**2))\n",
    "map_array_ml_ivar = np.zeros((len(existing_plateifus),shape,shape))#np.zeros((len(plateifu_list),74**2))\n",
    "map_array_ml_s = np.zeros((len(existing_plateifus),shape,shape))#np.zeros((len(plateifu_list),74**2))\n",
    "map_array_ml_s_ivar = np.zeros((len(existing_plateifus),shape,shape))#np.zeros((len(plateifu_list),74**2))\n",
    "#map_array_ml_g = np.zeros((len(existing_plateifus),shape,shape))#np.zeros((len(plateifu_list),74**2))\n",
    "#map_array_ml_g_ivar = np.zeros((len(existing_plateifus),shape,shape))#np.zeros((len(plateifu_list),74**2))\n",
    "\n",
    "ifu_name=[]\n",
    "\n",
    "counter=0\n",
    "for j in range(len(existing_plateifus)):\n",
    "    if j%10 == 0: #then j is evenly divisible by 10\n",
    "        print('j = ',j)\n",
    "    \n",
    "    mapit=0\n",
    "    \n",
    "    try:\n",
    "        maps = Maps(filename='/Users/beckynevin/sas/mangawork/manga/spectro/analysis/v2_5_3/2.3.0/VOR10-MILESHC-MILESHC/'+str(re.split('-',existing_plateifus[j])[-2])+'/'+str(re.split('-',existing_plateifus[j])[-1])+'/manga-'+existing_plateifus[j]+'-MAPS-VOR10-MILESHC-MILESHC.fits')\n",
    "        \n",
    "        \n",
    "        \n",
    "    \n",
    "        #mapit_g = Maps(filename='/Users/beckynevin/sas/mangawork/manga/spectro/analysis/v2_5_3/2.3.0/VOR10-MILESHC-MILESHC/'+str(re.split('-',existing_plateifus[j])[-2])+'/'+str(re.split('-',existing_plateifus[j])[-1])+'/manga-'+existing_plateifus[j]+'-MAPS-VOR10-MILESHC-MILESHC.fits')['gas_vel'].value\n",
    "        #mapit_g_ivar = Maps(filename='/Users/beckynevin/sas/mangawork/manga/spectro/analysis/v2_5_3/2.3.0/VOR10-MILESHC-MILESHC/'+str(re.split('-',existing_plateifus[j])[-2])+'/'+str(re.split('-',existing_plateifus[j])[-1])+'/manga-'+existing_plateifus[j]+'-MAPS-VOR10-MILESHC-MILESHC.fits')['gas_vel'].ivar\n",
    "    \n",
    "    except:\n",
    "        maps = Maps(filename='/Users/beckynevin/sas/mangawork/manga/spectro/analysis/v2_5_3/2.3.0/VOR10-MILESHC-MILESHC/'+str(re.split('-',existing_plateifus[j])[-2])+'/'+str(re.split('-',existing_plateifus[j])[-1])+'/manga-'+existing_plateifus[j]+'-MAPS-VOR10-MILESHC-MILESHC.fits.gz')\n",
    "    \n",
    "    \n",
    "    #mask_v = maps['stellar_vel_mask'].value\n",
    "    mapit = maps['stellar_vel'].value\n",
    "    mapit_ivar = maps['stellar_vel'].ivar\n",
    "\n",
    "    #mask_s = maps['stellar_sigma_mask'].value\n",
    "    mapit_s = np.sqrt(maps['stellar_sigma'].value**2 - maps['stellar_sigmacorr'].value**2)\n",
    "    mapit_s_ivar = maps['stellar_sigma'].ivar\n",
    "\n",
    "    '''plt.clf()\n",
    "    plt.imshow(maps['stellar_sigma'].value, cmap='magma')\n",
    "    plt.colorbar()\n",
    "    plt.title('sigma masked uncorrected')\n",
    "    plt.show()\n",
    "\n",
    "    plt.clf()\n",
    "    plt.imshow(maps['stellar_sigmacorr'].value, cmap='magma')\n",
    "    plt.colorbar()\n",
    "    plt.title('correction')\n",
    "    plt.show()\n",
    "\n",
    "    plt.clf()\n",
    "    plt.imshow(mapit_s, cmap='magma')\n",
    "    plt.colorbar()\n",
    "    plt.title('sigma masked corrected')\n",
    "    plt.show()\n",
    "    \n",
    "    STOP'''\n",
    "    \n",
    "    #mapit = Maps(existing_plateifus[j], mode='local', bintype='VOR10', data_origin='db')['stellar_vel'].value\n",
    "    \n",
    "    #if plateifu_list[j][-5:-1]=='1270':\n",
    "        \n",
    "    try:\n",
    "        map_array_ml[j,:,:] = mapit\n",
    "        map_array_ml_ivar[j,:,:] = mapit_ivar\n",
    "        map_array_ml_s[j,:,:] = mapit_s\n",
    "        map_array_ml_s_ivar[j,:,:] = mapit_s_ivar\n",
    "        #map_array_ml_g[j,:,:] = mapit_g\n",
    "        #map_array_ml_g_ivar[j,:,:] = mapit_g_ivar\n",
    "        \n",
    "        \n",
    "    except: # If this doesn't work you have to pad it first\n",
    "        # First, determine the difference in shape to make up\n",
    "        try:\n",
    "            shape_here = np.shape(mapit)[0]\n",
    "        \n",
    "            pad_total = shape - shape_here\n",
    "\n",
    "            padded_array = np.pad(mapit, (int(pad_total/2),int(pad_total/2)), 'edge')\n",
    "            padded_array_ivar = np.pad(mapit_ivar, (int(pad_total/2),int(pad_total/2)), 'edge')\n",
    "            padded_array_s = np.pad(mapit_s, (int(pad_total/2),int(pad_total/2)), 'edge')\n",
    "            padded_array_s_ivar = np.pad(mapit_s_ivar, (int(pad_total/2),int(pad_total/2)), 'edge')\n",
    "            #padded_array_g = np.pad(mapit_g, (int(pad_total/2),int(pad_total/2)), 'edge')\n",
    "            #padded_array_g_ivar = np.pad(mapit_g_ivar, (int(pad_total/2),int(pad_total/2)), 'edge')\n",
    "            \n",
    "        except:\n",
    "            \n",
    "            STOP\n",
    "            \n",
    "        map_array_ml[j,:,:] = padded_array\n",
    "        map_array_ml_ivar[j,:,:] = padded_array_ivar\n",
    "        map_array_ml_s[j,:,:] = padded_array_s\n",
    "        map_array_ml_s_ivar[j,:,:] = padded_array_s_ivar\n",
    "        #map_array_ml_g[j,:,:] = padded_array_g\n",
    "        #map_array_ml_g_ivar[j,:,:] = padded_array_g_ivar\n",
    "        \n",
    "    ifu_name.append(existing_plateifus[j])\n",
    "    \n",
    "    \n",
    "    # You can set a limit using the below commented out code if you do not need a big training set:\n",
    "    #if counter > 200:\n",
    "    #    break\n",
    "# I have found that it hangs after ~220 galaxies (Brainerror - too many requests for url),\n",
    "# so you would have to have a dedicated server to store the maps and not do it remotely \n",
    "# OR you would have to use a different method to grab the maps.\n",
    "\n"
   ]
  },
  {
   "cell_type": "code",
   "execution_count": 39,
   "metadata": {},
   "outputs": [
    {
     "name": "stdout",
     "output_type": "stream",
     "text": [
      "(198, 76, 76)\n"
     ]
    }
   ],
   "source": [
    "print(np.shape(map_array_ml))"
   ]
  },
  {
   "cell_type": "code",
   "execution_count": 40,
   "metadata": {},
   "outputs": [],
   "source": [
    "# What about also saving a numpy file so if you want to slightly chage the image you can do so?\n",
    "# This could also be a better alternative to downloading and saving all of the maps files\n",
    "\n",
    "for j in range(np.shape(map_array_ml)[0]):\n",
    "\n",
    "    # also save the array:\n",
    "    try:\n",
    "        np.save(\"/Users/beckynevin/CfA_Code/Kinematic_ML/data/numpy_files/\"+str(ifu_name[j])+\"/stellar_vel.npy\",\n",
    "            map_array_ml[j])\n",
    "        np.save(\"/Users/beckynevin/CfA_Code/Kinematic_ML/data/numpy_files/\"+str(ifu_name[j])+\"/stellar_vel_ivar.npy\",\n",
    "            map_array_ml_ivar[j])\n",
    "        np.save(\"/Users/beckynevin/CfA_Code/Kinematic_ML/data/numpy_files/\"+str(ifu_name[j])+\"/stellar_disp.npy\",\n",
    "            map_array_ml_s[j])\n",
    "        np.save(\"/Users/beckynevin/CfA_Code/Kinematic_ML/data/numpy_files/\"+str(ifu_name[j])+\"/stellar_disp_ivar.npy\",\n",
    "            map_array_ml_s_ivar[j])\n",
    "    except FileNotFoundError: #i.e., if the directory hasn't been created yet\n",
    "        os.system(\"mkdir /Users/beckynevin/CfA_Code/Kinematic_ML/data/numpy_files/\"+str(ifu_name[j]))\n",
    "        np.save(\"/Users/beckynevin/CfA_Code/Kinematic_ML/data/numpy_files/\"+str(ifu_name[j])+\"/stellar_vel.npy\",\n",
    "            map_array_ml[j])\n",
    "        np.save(\"/Users/beckynevin/CfA_Code/Kinematic_ML/data/numpy_files/\"+str(ifu_name[j])+\"/stellar_vel_ivar.npy\",\n",
    "            map_array_ml_ivar[j])\n",
    "        np.save(\"/Users/beckynevin/CfA_Code/Kinematic_ML/data/numpy_files/\"+str(ifu_name[j])+\"/stellar_disp.npy\",\n",
    "            map_array_ml_s[j])\n",
    "        np.save(\"/Users/beckynevin/CfA_Code/Kinematic_ML/data/numpy_files/\"+str(ifu_name[j])+\"/stellar_disp_ivar.npy\",\n",
    "            map_array_ml_s_ivar[j])\n",
    "        \n",
    "    \n",
    "    #"
   ]
  },
  {
   "cell_type": "code",
   "execution_count": null,
   "metadata": {},
   "outputs": [],
   "source": []
  }
 ],
 "metadata": {
  "kernelspec": {
   "display_name": "Python 3",
   "language": "python",
   "name": "python3"
  },
  "language_info": {
   "codemirror_mode": {
    "name": "ipython",
    "version": 3
   },
   "file_extension": ".py",
   "mimetype": "text/x-python",
   "name": "python",
   "nbconvert_exporter": "python",
   "pygments_lexer": "ipython3",
   "version": "3.7.3"
  }
 },
 "nbformat": 4,
 "nbformat_minor": 2
}
